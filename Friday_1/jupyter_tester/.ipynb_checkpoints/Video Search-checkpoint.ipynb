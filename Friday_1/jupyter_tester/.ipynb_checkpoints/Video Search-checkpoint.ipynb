{
 "cells": [
  {
   "cell_type": "code",
   "execution_count": 16,
   "metadata": {},
   "outputs": [
    {
     "name": "stdout",
     "output_type": "stream",
     "text": [
      "Please visit this URL to authorize this application: https://accounts.google.com/o/oauth2/auth?response_type=code&client_id=753159287740-pvas90t9rog65buk1v4l5jk1s4v7m4da.apps.googleusercontent.com&redirect_uri=urn%3Aietf%3Awg%3Aoauth%3A2.0%3Aoob&scope=https%3A%2F%2Fwww.googleapis.com%2Fauth%2Fyoutube.force-ssl&state=edf3uLFIXhkNLfbyZODY8XNfqb5KH4&prompt=consent&access_type=offline&code_challenge=8GLcPRbfsgHG2fHnV7WDhHUtdW8bRTxAy4XwArFND8k&code_challenge_method=S256\n",
      "Enter the authorization code: 4/lgGFgEhOURICe1na_HkypaKo8mJWEqSrFmSAaGN--t4t-5GGh8dyAxc\n",
      "{'kind': 'youtube#searchListResponse', 'etag': '\"Bdx4f4ps3xCOOo1WZ91nTLkRZ_c/3FvRwPaQzX-SzlyTzrn0-_0jKZw\"', 'nextPageToken': 'CAUQAA', 'regionCode': 'US', 'pageInfo': {'totalResults': 1000000, 'resultsPerPage': 5}, 'items': [{'kind': 'youtube#searchResult', 'etag': '\"Bdx4f4ps3xCOOo1WZ91nTLkRZ_c/MpkPDmKI7evLzVSxEI8jkIcWUSA\"', 'id': {'kind': 'youtube#video', 'videoId': 'Kwe1w1-x2Xs'}, 'snippet': {'publishedAt': '2019-08-02T12:59:56.000Z', 'channelId': 'UCB_HeNJA394MFhoOsv4m1Rg', 'title': 'Whether Clemson &amp; Alabama will meet to decide national title | GET UP', 'description': '', 'thumbnails': {'default': {'url': 'https://i.ytimg.com/vi/Kwe1w1-x2Xs/default.jpg', 'width': 120, 'height': 90}, 'medium': {'url': 'https://i.ytimg.com/vi/Kwe1w1-x2Xs/mqdefault.jpg', 'width': 320, 'height': 180}, 'high': {'url': 'https://i.ytimg.com/vi/Kwe1w1-x2Xs/hqdefault.jpg', 'width': 480, 'height': 360}}, 'channelTitle': 'Stas', 'liveBroadcastContent': 'none'}}, {'kind': 'youtube#searchResult', 'etag': '\"Bdx4f4ps3xCOOo1WZ91nTLkRZ_c/ZRoDI1C5X75nqQnJpqigLHqUQg8\"', 'id': {'kind': 'youtube#video', 'videoId': 'v3ZjNfI4Wjs'}, 'snippet': {'publishedAt': '2019-07-31T04:28:39.000Z', 'channelId': 'UC41Al0YqXX9END4seuX3vqg', 'title': 'Clemson Football: 44-16 Gonna Fly Now (Rocky Montage)', 'description': '44-16 15-0 GOAT “It is not the critic who counts; not the man who points out how the strong man stumbles, or where the doer of deeds could have done them ...', 'thumbnails': {'default': {'url': 'https://i.ytimg.com/vi/v3ZjNfI4Wjs/default.jpg', 'width': 120, 'height': 90}, 'medium': {'url': 'https://i.ytimg.com/vi/v3ZjNfI4Wjs/mqdefault.jpg', 'width': 320, 'height': 180}, 'high': {'url': 'https://i.ytimg.com/vi/v3ZjNfI4Wjs/hqdefault.jpg', 'width': 480, 'height': 360}}, 'channelTitle': 'In the Shadow of Death Valley', 'liveBroadcastContent': 'none'}}, {'kind': 'youtube#searchResult', 'etag': '\"Bdx4f4ps3xCOOo1WZ91nTLkRZ_c/vIlY2ZxvSVJt8nIiMfOz0vsxUgg\"', 'id': {'kind': 'youtube#video', 'videoId': '1kOhhqoWJQ4'}, 'snippet': {'publishedAt': '2019-07-26T02:31:46.000Z', 'channelId': 'UC41Al0YqXX9END4seuX3vqg', 'title': '2018 Clemson Football: 15-0 Leave No Doubt', 'description': 'Leave no doubt. All in. Extravagant dreams. The best is yet to come. While many words could be used to aptly describe the 2018 Clemson Tigers, the most ...', 'thumbnails': {'default': {'url': 'https://i.ytimg.com/vi/1kOhhqoWJQ4/default.jpg', 'width': 120, 'height': 90}, 'medium': {'url': 'https://i.ytimg.com/vi/1kOhhqoWJQ4/mqdefault.jpg', 'width': 320, 'height': 180}, 'high': {'url': 'https://i.ytimg.com/vi/1kOhhqoWJQ4/hqdefault.jpg', 'width': 480, 'height': 360}}, 'channelTitle': 'In the Shadow of Death Valley', 'liveBroadcastContent': 'none'}}, {'kind': 'youtube#searchResult', 'etag': '\"Bdx4f4ps3xCOOo1WZ91nTLkRZ_c/6QDyt68GBWiLAKrw-mjonTId18o\"', 'id': {'kind': 'youtube#video', 'videoId': 'QE1AWvBco_s'}, 'snippet': {'publishedAt': '2019-07-31T16:49:22.000Z', 'channelId': 'UCZII2-pYouhc81JtJ9zShEw', 'title': 'Clemson football success continues to impact community', 'description': \"Clemson University's football team starts practice Friday, and the entire Clemson community is eager for another championship title.\", 'thumbnails': {'default': {'url': 'https://i.ytimg.com/vi/QE1AWvBco_s/default.jpg', 'width': 120, 'height': 90}, 'medium': {'url': 'https://i.ytimg.com/vi/QE1AWvBco_s/mqdefault.jpg', 'width': 320, 'height': 180}, 'high': {'url': 'https://i.ytimg.com/vi/QE1AWvBco_s/hqdefault.jpg', 'width': 480, 'height': 360}}, 'channelTitle': 'WSPA 7News', 'liveBroadcastContent': 'none'}}, {'kind': 'youtube#searchResult', 'etag': '\"Bdx4f4ps3xCOOo1WZ91nTLkRZ_c/HtWQ4thBYL7-LpXpNA3xesgfHJc\"', 'id': {'kind': 'youtube#video', 'videoId': '9xXiqsyQAKQ'}, 'snippet': {'publishedAt': '2019-07-29T21:00:02.000Z', 'channelId': 'UCMVyEEhRPKVK2C6_6CmyG6w', 'title': 'Clemson 2019 Season Simulation - NCAA Football 20 (NCAA 14 with Updated Rosters)', 'description': 'We simulate the 2019 college football season for the Clemson Tigers on NCAA Football 20. (NCAA Football 14 with updated rosters for the 2019 season) ...', 'thumbnails': {'default': {'url': 'https://i.ytimg.com/vi/9xXiqsyQAKQ/default.jpg', 'width': 120, 'height': 90}, 'medium': {'url': 'https://i.ytimg.com/vi/9xXiqsyQAKQ/mqdefault.jpg', 'width': 320, 'height': 180}, 'high': {'url': 'https://i.ytimg.com/vi/9xXiqsyQAKQ/hqdefault.jpg', 'width': 480, 'height': 360}}, 'channelTitle': 'SG1 Sports', 'liveBroadcastContent': 'none'}}]}\n"
     ]
    }
   ],
   "source": [
    "# -*- coding: utf-8 -*-\n",
    "\n",
    "# Sample Python code for youtube.search.list\n",
    "# See instructions for running these code samples locally:\n",
    "# https://developers.google.com/explorer-help/guides/code_samples#python\n",
    "\n",
    "import os\n",
    "\n",
    "import google_auth_oauthlib.flow\n",
    "import googleapiclient.discovery\n",
    "import googleapiclient.errors\n",
    "\n",
    "scopes = [\"https://www.googleapis.com/auth/youtube.force-ssl\"]\n",
    "\n",
    "def main():\n",
    "    # Disable OAuthlib's HTTPS verification when running locally.\n",
    "    # *DO NOT* leave this option enabled in production.\n",
    "    os.environ[\"OAUTHLIB_INSECURE_TRANSPORT\"] = \"1\"\n",
    "\n",
    "    api_service_name = \"youtube\"\n",
    "    api_version = \"v3\"\n",
    "    client_secrets_file = \"client_secret_753159287740-pvas90t9rog65buk1v4l5jk1s4v7m4da.apps.googleusercontent.com.json\"\n",
    "\n",
    "    # Get credentials and create an API client\n",
    "    flow = google_auth_oauthlib.flow.InstalledAppFlow.from_client_secrets_file(\n",
    "        client_secrets_file, scopes)\n",
    "    credentials = flow.run_console()\n",
    "    youtube = googleapiclient.discovery.build(\n",
    "        api_service_name, api_version, credentials=credentials)\n",
    "\n",
    "    request = youtube.search().list(\n",
    "        part=\"snippet\",\n",
    "        q=\"clemson\",\n",
    "        type=\"video\"\n",
    "    )\n",
    "    response = request.execute()\n",
    "\n",
    "    print(response)\n",
    "\n",
    "\n",
    "main()"
   ]
  },
  {
   "cell_type": "code",
   "execution_count": 2,
   "metadata": {},
   "outputs": [
    {
     "ename": "ValueError",
     "evalue": "The API Key is invalid",
     "output_type": "error",
     "traceback": [
      "\u001b[0;31m---------------------------------------------------------------------------\u001b[0m",
      "\u001b[0;31mValueError\u001b[0m                                Traceback (most recent call last)",
      "\u001b[0;32m<ipython-input-2-24ad2be6a31d>\u001b[0m in \u001b[0;36m<module>\u001b[0;34m\u001b[0m\n\u001b[1;32m      2\u001b[0m \u001b[0;34m\u001b[0m\u001b[0m\n\u001b[1;32m      3\u001b[0m \u001b[0mapi_key\u001b[0m \u001b[0;34m=\u001b[0m \u001b[0;34m'x'\u001b[0m\u001b[0;34m\u001b[0m\u001b[0;34m\u001b[0m\u001b[0m\n\u001b[0;32m----> 4\u001b[0;31m \u001b[0myt\u001b[0m \u001b[0;34m=\u001b[0m \u001b[0mYouTubeDataAPI\u001b[0m\u001b[0;34m(\u001b[0m\u001b[0mapi_key\u001b[0m\u001b[0;34m)\u001b[0m\u001b[0;34m\u001b[0m\u001b[0;34m\u001b[0m\u001b[0m\n\u001b[0m\u001b[1;32m      5\u001b[0m \u001b[0myt\u001b[0m\u001b[0;34m.\u001b[0m\u001b[0msearch\u001b[0m\u001b[0;34m(\u001b[0m\u001b[0;34m'alexandria ocasio-cortez'\u001b[0m\u001b[0;34m)\u001b[0m\u001b[0;34m\u001b[0m\u001b[0;34m\u001b[0m\u001b[0m\n",
      "\u001b[0;32m/mnt/c/Users/sonic/Documents/School/Summer 19/TraceCamp/Friday_1/env/lib/python3.6/site-packages/youtube_api/youtube_api.py\u001b[0m in \u001b[0;36m__init__\u001b[0;34m(self, key, api_version, verify_api_key, verbose)\u001b[0m\n\u001b[1;32m     39\u001b[0m             \u001b[0;32mraise\u001b[0m \u001b[0mValueError\u001b[0m\u001b[0;34m(\u001b[0m\u001b[0;34m'No API key used to initate the class.'\u001b[0m\u001b[0;34m)\u001b[0m\u001b[0;34m\u001b[0m\u001b[0;34m\u001b[0m\u001b[0m\n\u001b[1;32m     40\u001b[0m         \u001b[0;32mif\u001b[0m \u001b[0mverify_api_key\u001b[0m \u001b[0;32mand\u001b[0m \u001b[0;32mnot\u001b[0m \u001b[0mself\u001b[0m\u001b[0;34m.\u001b[0m\u001b[0mverify_key\u001b[0m\u001b[0;34m(\u001b[0m\u001b[0;34m)\u001b[0m\u001b[0;34m:\u001b[0m\u001b[0;34m\u001b[0m\u001b[0;34m\u001b[0m\u001b[0m\n\u001b[0;32m---> 41\u001b[0;31m             \u001b[0;32mraise\u001b[0m \u001b[0mValueError\u001b[0m\u001b[0;34m(\u001b[0m\u001b[0;34m'The API Key is invalid'\u001b[0m\u001b[0;34m)\u001b[0m\u001b[0;34m\u001b[0m\u001b[0;34m\u001b[0m\u001b[0m\n\u001b[0m\u001b[1;32m     42\u001b[0m \u001b[0;34m\u001b[0m\u001b[0m\n\u001b[1;32m     43\u001b[0m         \u001b[0;31m# creates a requests sessions for API calls.\u001b[0m\u001b[0;34m\u001b[0m\u001b[0;34m\u001b[0m\u001b[0;34m\u001b[0m\u001b[0m\n",
      "\u001b[0;31mValueError\u001b[0m: The API Key is invalid"
     ]
    }
   ],
   "source": [
    "from youtube_api import YouTubeDataAPI\n",
    "\n",
    "api_key = '753159287740-pvas90t9rog65buk1v4l5jk1s4v7m4da.apps.googleusercontent.com'\n",
    "yt = YouTubeDataAPI(api_key)\n",
    "yt.search('alexandria ocasio-cortez')"
   ]
  },
  {
   "cell_type": "code",
   "execution_count": null,
   "metadata": {},
   "outputs": [],
   "source": []
  }
 ],
 "metadata": {
  "kernelspec": {
   "display_name": "Python 3",
   "language": "python",
   "name": "python3"
  },
  "language_info": {
   "codemirror_mode": {
    "name": "ipython",
    "version": 3
   },
   "file_extension": ".py",
   "mimetype": "text/x-python",
   "name": "python",
   "nbconvert_exporter": "python",
   "pygments_lexer": "ipython3",
   "version": "3.6.8"
  }
 },
 "nbformat": 4,
 "nbformat_minor": 2
}
