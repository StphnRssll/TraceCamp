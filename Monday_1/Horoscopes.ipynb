{
 "cells": [
  {
   "cell_type": "code",
   "execution_count": 34,
   "metadata": {},
   "outputs": [
    {
     "name": "stdout",
     "output_type": "stream",
     "text": [
      "Hello. Enter your birthday (MM/DD/YYYY): 09/08/1999\n",
      "Today's Virgo horoscope:\n",
      "You will find a valuable antique in your attic\n"
     ]
    }
   ],
   "source": [
    "import random\n",
    "\n",
    "horoscopes = [\"You will marry your best friend\",\"You will die on an empty stomach\",\"You will find a valuable antique in your attic\"]\n",
    "zodiacs = [\"Capricorn\",\"Aquarius\",\"Pisces\",\"Aries\",\"Taurus\",\"Gemini\",\"Cancer\",\"Leo\",\"Virgo\",\"Libra\",\"Scorpio\",\"Sagittarius\"]\n",
    "\n",
    "bDay = input(\"Hello. Enter your birthday (MM/DD/YYYY): \")\n",
    "bDay = bDay.split(\"/\")\n",
    "\n",
    "bMonth = int(bDay[0])\n",
    "bYear = int(bDay[2])\n",
    "bDay = int(bDay[1])\n",
    "\n",
    "def zodiac_picker(bMonth):\n",
    "    # daysOfMonths = [0,31,59,90,120,151,181,212,243,273,304,334,365]\n",
    "    # zodiacRanges = [20,44,82,107,144,175,195,232,277,300,307,325,]\n",
    "    # bYTD = daysOfMonths[bMonth-1] + bDay #birthday \"year to date\" - jan 1st -> 1, dec 31 -> 365\n",
    "\n",
    "    zodiac = zodiacs[bMonth-1]\n",
    "    return zodiac\n",
    "    \n",
    "zodiac = zodiac_picker(bMonth) #calls above function\n",
    "\n",
    "def horoscope_picker(zodiac):\n",
    "    \n",
    "   print(\"Today's \" + zodiac + \" horoscope:\\n\" + horoscopes[random.randint(0,2)])\n",
    "\n",
    "horoscope_picker(zodiac)"
   ]
  }
 ],
 "metadata": {
  "kernelspec": {
   "display_name": "Python 3",
   "language": "python",
   "name": "python3"
  },
  "language_info": {
   "codemirror_mode": {
    "name": "ipython",
    "version": 3
   },
   "file_extension": ".py",
   "mimetype": "text/x-python",
   "name": "python",
   "nbconvert_exporter": "python",
   "pygments_lexer": "ipython3",
   "version": "3.7.3"
  }
 },
 "nbformat": 4,
 "nbformat_minor": 2
}
