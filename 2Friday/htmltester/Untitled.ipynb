{
 "cells": [
  {
   "cell_type": "code",
   "execution_count": 5,
   "metadata": {},
   "outputs": [
    {
     "name": "stdout",
     "output_type": "stream",
     "text": [
      "[<a aria-describedby=\"description-id-690597\" class=\"yt-uix-tile-link yt-ui-ellipsis yt-ui-ellipsis-2 yt-uix-sessionlink spf-link\" data-sessionlink=\"itct=CE4Q3DAYASITCJC3z-zZ-OMCFcodhAodrZ8CNzIGc2VhcmNoUhBCZWF0ZXMgSW50ZXJ2aWV3\" dir=\"ltr\" href=\"/watch?v=8Qz9a72ljyM\" rel=\"spf-prefetch\" title=\"The Beatles funny interviews\">The Beatles funny interviews</a>, <a aria-describedby=\"description-id-550688\" class=\"yt-uix-tile-link yt-ui-ellipsis yt-ui-ellipsis-2 yt-uix-sessionlink spf-link\" data-sessionlink=\"itct=CE0Q3DAYAiITCJC3z-zZ-OMCFcodhAodrZ8CNzIGc2VhcmNoUhBCZWF0ZXMgSW50ZXJ2aWV3\" dir=\"ltr\" href=\"/watch?v=YdyKR3oLXPw\" rel=\"spf-prefetch\" title=\"The Beatles Great Interviews\">The Beatles Great Interviews</a>, <a aria-describedby=\"description-id-425539\" class=\"yt-uix-tile-link yt-ui-ellipsis yt-ui-ellipsis-2 yt-uix-sessionlink spf-link\" data-sessionlink=\"itct=CEwQ3DAYAyITCJC3z-zZ-OMCFcodhAodrZ8CNzIGc2VhcmNoUhBCZWF0ZXMgSW50ZXJ2aWV3\" dir=\"ltr\" href=\"/watch?v=Dm8frWeoBA0\" rel=\"spf-prefetch\" title=\"Roundup Interview (1964) - The Beatles\">Roundup Interview (1964) - The Beatles</a>, <a aria-describedby=\"description-id-314900\" class=\"yt-uix-tile-link yt-ui-ellipsis yt-ui-ellipsis-2 yt-uix-sessionlink spf-link\" data-sessionlink=\"itct=CEsQ3DAYBCITCJC3z-zZ-OMCFcodhAodrZ8CNzIGc2VhcmNoUhBCZWF0ZXMgSW50ZXJ2aWV3\" dir=\"ltr\" href=\"/watch?v=VgiiSfrf3So\" rel=\"spf-prefetch\" title=\"Complete Interview with Ken Dodd 1963 - The Beatles [Eng/Spa Subtitles]\">Complete Interview with Ken Dodd 1963 - The Beatles [Eng/Spa Subtitles]</a>, <a aria-describedby=\"description-id-908294\" class=\"yt-uix-tile-link yt-ui-ellipsis yt-ui-ellipsis-2 yt-uix-sessionlink spf-link\" data-sessionlink=\"itct=CEoQ3DAYBSITCJC3z-zZ-OMCFcodhAodrZ8CNzIGc2VhcmNoUhBCZWF0ZXMgSW50ZXJ2aWV3\" dir=\"ltr\" href=\"/watch?v=NVxCsszqz5I\" rel=\"spf-prefetch\" title=\"The Beatles Interview 1966\">The Beatles Interview 1966</a>, <a aria-describedby=\"description-id-627445\" class=\"yt-uix-tile-link yt-ui-ellipsis yt-ui-ellipsis-2 yt-uix-sessionlink spf-link\" data-sessionlink=\"itct=CEkQ3DAYBiITCJC3z-zZ-OMCFcodhAodrZ8CNzIGc2VhcmNoUhBCZWF0ZXMgSW50ZXJ2aWV3\" dir=\"ltr\" href=\"/watch?v=Qp0i90n0BP8\" rel=\"spf-prefetch\" title=\"Paul McCartney &amp; John Lennon 1968 Full Interview\">Paul McCartney &amp; John Lennon 1968 Full Interview</a>, <a aria-describedby=\"description-id-368584\" class=\"yt-uix-tile-link yt-ui-ellipsis yt-ui-ellipsis-2 yt-uix-sessionlink spf-link\" data-sessionlink=\"itct=CEgQ3DAYByITCJC3z-zZ-OMCFcodhAodrZ8CNzIGc2VhcmNoUhBCZWF0ZXMgSW50ZXJ2aWV3\" dir=\"ltr\" href=\"/watch?v=sUTAbVd0sbQ\" rel=\"spf-prefetch\" title=\"John Lennon: The Full 1975 Harris interview. Beatles Break-up, reunion, George Martin, NYC &amp; more\">John Lennon: The Full 1975 Harris interview. Beatles Break-up, reunion, George Martin, NYC &amp; more</a>, <a aria-describedby=\"description-id-566847\" class=\"yt-uix-tile-link yt-ui-ellipsis yt-ui-ellipsis-2 yt-uix-sessionlink spf-link\" data-sessionlink=\"itct=CEYQ3DAYCCITCJC3z-zZ-OMCFcodhAodrZ8CNzIGc2VhcmNoUhBCZWF0ZXMgSW50ZXJ2aWV3\" dir=\"ltr\" href=\"/watch?v=M2W0AtmaOzI\" rel=\"spf-prefetch\" title=\"The Beatles ~ My Favourite Moments ~ Part Two\">The Beatles ~ My Favourite Moments ~ Part Two</a>, <a aria-describedby=\"description-id-803507\" class=\"yt-uix-tile-link yt-ui-ellipsis yt-ui-ellipsis-2 yt-uix-sessionlink spf-link\" data-sessionlink=\"itct=CEQQ3DAYCSITCJC3z-zZ-OMCFcodhAodrZ8CNzIGc2VhcmNoUhBCZWF0ZXMgSW50ZXJ2aWV3\" dir=\"ltr\" href=\"/watch?v=84AIHpxd440\" rel=\"spf-prefetch\" title=\"The Beatles ~ My Favourite Moments ~ Part Three\">The Beatles ~ My Favourite Moments ~ Part Three</a>, <a aria-describedby=\"description-id-427364\" class=\"yt-uix-tile-link yt-ui-ellipsis yt-ui-ellipsis-2 yt-uix-sessionlink spf-link\" data-sessionlink=\"itct=CEIQ3DAYCiITCJC3z-zZ-OMCFcodhAodrZ8CNzIGc2VhcmNoUhBCZWF0ZXMgSW50ZXJ2aWV3\" dir=\"ltr\" href=\"/watch?v=QjvzCTqkBDQ\" rel=\"spf-prefetch\" title=\"Paul McCartney Carpool Karaoke\">Paul McCartney Carpool Karaoke</a>, <a aria-describedby=\"description-id-268960\" class=\"yt-uix-tile-link yt-ui-ellipsis yt-ui-ellipsis-2 yt-uix-sessionlink spf-link\" data-sessionlink=\"itct=CEEQ3DAYCyITCJC3z-zZ-OMCFcodhAodrZ8CNzIGc2VhcmNoUhBCZWF0ZXMgSW50ZXJ2aWV3\" dir=\"ltr\" href=\"/watch?v=uPRAVID5Vt8\" rel=\"spf-prefetch\" title=\"Larry King Live with the John Lennon murderer\">Larry King Live with the John Lennon murderer</a>, <a aria-describedby=\"description-id-325755\" class=\"yt-uix-tile-link yt-ui-ellipsis yt-ui-ellipsis-2 yt-uix-sessionlink spf-link\" data-sessionlink=\"itct=CEAQ3DAYDCITCJC3z-zZ-OMCFcodhAodrZ8CNzIGc2VhcmNoUhBCZWF0ZXMgSW50ZXJ2aWV3\" dir=\"ltr\" href=\"/watch?v=bHkNqO8ncz8\" rel=\"spf-prefetch\" title=\"Uncut Beatles Sydney Press Conference\">Uncut Beatles Sydney Press Conference</a>, <a aria-describedby=\"description-id-441527\" class=\"yt-uix-tile-link yt-ui-ellipsis yt-ui-ellipsis-2 yt-uix-sessionlink spf-link\" data-sessionlink=\"itct=CD8Q3DAYDSITCJC3z-zZ-OMCFcodhAodrZ8CNzIGc2VhcmNoUhBCZWF0ZXMgSW50ZXJ2aWV3\" dir=\"ltr\" href=\"/watch?v=ArPO4wwyaxo\" rel=\"spf-prefetch\" title=\"Beatles footage: Paul, George and Ringo - From the anthology series.\">Beatles footage: Paul, George and Ringo - From the anthology series.</a>, <a aria-describedby=\"description-id-380775\" class=\"yt-uix-tile-link yt-ui-ellipsis yt-ui-ellipsis-2 yt-uix-sessionlink spf-link\" data-sessionlink=\"itct=CD4Q3DAYDiITCJC3z-zZ-OMCFcodhAodrZ8CNzIGc2VhcmNoUhBCZWF0ZXMgSW50ZXJ2aWV3\" dir=\"ltr\" href=\"/watch?v=OH5IhIWg00I\" rel=\"spf-prefetch\" title=\"The Beatles in a press conference after their Return from the USA\">The Beatles in a press conference after their Return from the USA</a>, <a aria-describedby=\"description-id-37368\" class=\"yt-uix-tile-link yt-ui-ellipsis yt-ui-ellipsis-2 yt-uix-sessionlink spf-link\" data-sessionlink=\"itct=CD0Q3DAYDyITCJC3z-zZ-OMCFcodhAodrZ8CNzIGc2VhcmNoUhBCZWF0ZXMgSW50ZXJ2aWV3\" dir=\"ltr\" href=\"/watch?v=SbKiHI-ggJM\" rel=\"spf-prefetch\" title=\"Epic Interview The Beatles in LA 1964\">Epic Interview The Beatles in LA 1964</a>, <a aria-describedby=\"description-id-424988\" class=\"yt-uix-tile-link yt-ui-ellipsis yt-ui-ellipsis-2 yt-uix-sessionlink spf-link\" data-sessionlink=\"itct=CDwQ3DAYECITCJC3z-zZ-OMCFcodhAodrZ8CNzIGc2VhcmNoUhBCZWF0ZXMgSW50ZXJ2aWV3\" dir=\"ltr\" href=\"/watch?v=j9e6zHA6eOY\" rel=\"spf-prefetch\" title=\"The Beatles - Famous 'Mockers' Interview 1964\">The Beatles - Famous 'Mockers' Interview 1964</a>, <a aria-describedby=\"description-id-700480\" class=\"yt-uix-tile-link yt-ui-ellipsis yt-ui-ellipsis-2 yt-uix-sessionlink spf-link\" data-sessionlink=\"itct=CDUQ3DAYEiITCJC3z-zZ-OMCFcodhAodrZ8CNzIGc2VhcmNoUhBCZWF0ZXMgSW50ZXJ2aWV3\" dir=\"ltr\" href=\"/watch?v=Ue9NI7nenf8\" rel=\"spf-prefetch\" title=\"The Beatles Funny Moments\">The Beatles Funny Moments</a>, <a aria-describedby=\"description-id-576209\" class=\"yt-uix-tile-link yt-ui-ellipsis yt-ui-ellipsis-2 yt-uix-sessionlink spf-link\" data-sessionlink=\"itct=CDQQ3DAYEyITCJC3z-zZ-OMCFcodhAodrZ8CNzIGc2VhcmNoUhBCZWF0ZXMgSW50ZXJ2aWV3\" dir=\"ltr\" href=\"/watch?v=HtG55zlN3L8\" rel=\"spf-prefetch\" title=\"Ringo Starr on Life as a Beatle\">Ringo Starr on Life as a Beatle</a>, <a aria-describedby=\"description-id-40173\" class=\"yt-uix-tile-link yt-ui-ellipsis yt-ui-ellipsis-2 yt-uix-sessionlink spf-link\" data-sessionlink=\"itct=CDMQ3DAYFCITCJC3z-zZ-OMCFcodhAodrZ8CNzIGc2VhcmNoUhBCZWF0ZXMgSW50ZXJ2aWV3\" dir=\"ltr\" href=\"/watch?v=azq8ud8oiLY\" rel=\"spf-prefetch\" title=\"Paul McCartney on Who Broke Up the Beatles\">Paul McCartney on Who Broke Up the Beatles</a>, <a aria-describedby=\"description-id-222168\" class=\"yt-uix-tile-link yt-ui-ellipsis yt-ui-ellipsis-2 yt-uix-sessionlink spf-link\" data-sessionlink=\"itct=CDIQ3DAYFSITCJC3z-zZ-OMCFcodhAodrZ8CNzIGc2VhcmNoUhBCZWF0ZXMgSW50ZXJ2aWV3\" dir=\"ltr\" href=\"/watch?v=NUNtaFuq6RA\" rel=\"spf-prefetch\" title=\"Paul McCartney Stoned Out Of His Mind In Interview\">Paul McCartney Stoned Out Of His Mind In Interview</a>, <a aria-describedby=\"description-id-579334\" class=\"yt-uix-tile-link yt-ui-ellipsis yt-ui-ellipsis-2 yt-uix-sessionlink spf-link\" data-sessionlink=\"itct=CDEQ3DAYFiITCJC3z-zZ-OMCFcodhAodrZ8CNzIGc2VhcmNoUhBCZWF0ZXMgSW50ZXJ2aWV3\" dir=\"ltr\" href=\"/watch?v=aaTy3kSxyoo\" rel=\"spf-prefetch\" title=\"John Lennon The Final Interview BBC Radio 1 December 6th 1980\">John Lennon The Final Interview BBC Radio 1 December 6th 1980</a>, <a aria-describedby=\"description-id-247498\" class=\"yt-uix-tile-link yt-ui-ellipsis yt-ui-ellipsis-2 yt-uix-sessionlink spf-link\" data-sessionlink=\"itct=CDAQ3DAYFyITCJC3z-zZ-OMCFcodhAodrZ8CNzIGc2VhcmNoUhBCZWF0ZXMgSW50ZXJ2aWV3\" dir=\"ltr\" href=\"/watch?v=sqP1FEpoBG8\" rel=\"spf-prefetch\" title='\"Weird Al\" Yankovic - The Paul McCartney Interview'>\"Weird Al\" Yankovic - The Paul McCartney Interview</a>, <a aria-describedby=\"description-id-262888\" class=\"yt-uix-tile-link yt-ui-ellipsis yt-ui-ellipsis-2 yt-uix-sessionlink spf-link\" data-sessionlink=\"itct=CC8Q3DAYGCITCJC3z-zZ-OMCFcodhAodrZ8CNzIGc2VhcmNoUhBCZWF0ZXMgSW50ZXJ2aWV3\" dir=\"ltr\" href=\"/watch?v=u97_inloBmY\" rel=\"spf-prefetch\" title=\"Paul McCartney Breaks Down His Most Iconic Songs | GQ\">Paul McCartney Breaks Down His Most Iconic Songs | GQ</a>]\n"
     ]
    }
   ],
   "source": [
    "from bs4 import BeautifulSoup as bs\n",
    "import requests\n",
    "import json\n",
    "\n",
    "base = \"https://www.youtube.com/results?search_query=\"\n",
    "query = \"Beates+Interview\"\n",
    "r = requests.get(base+query)\n",
    "\n",
    "page = r.text\n",
    "soup=bs(page,'html.parser')\n",
    "\n",
    "vids = soup.findAll('a',attrs={'class':'yt-uix-tile-link'})\n",
    "\n",
    "videolist=[]\n",
    "for v in vids:\n",
    "    tmp = 'https://www.youtube.com' + v['href']\n",
    "    videolist.append(tmp)\n",
    "    \n",
    "print(vids)"
   ]
  },
  {
   "cell_type": "code",
   "execution_count": null,
   "metadata": {},
   "outputs": [],
   "source": []
  }
 ],
 "metadata": {
  "kernelspec": {
   "display_name": "Python 3",
   "language": "python",
   "name": "python3"
  },
  "language_info": {
   "codemirror_mode": {
    "name": "ipython",
    "version": 3
   },
   "file_extension": ".py",
   "mimetype": "text/x-python",
   "name": "python",
   "nbconvert_exporter": "python",
   "pygments_lexer": "ipython3",
   "version": "3.6.8"
  }
 },
 "nbformat": 4,
 "nbformat_minor": 2
}
